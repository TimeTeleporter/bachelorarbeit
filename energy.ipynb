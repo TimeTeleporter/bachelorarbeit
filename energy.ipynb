{
 "metadata": {
  "language_info": {
   "codemirror_mode": {
    "name": "ipython",
    "version": 3
   },
   "file_extension": ".py",
   "mimetype": "text/x-python",
   "name": "python",
   "nbconvert_exporter": "python",
   "pygments_lexer": "ipython3",
   "version": "3.8.5"
  },
  "orig_nbformat": 2,
  "kernelspec": {
   "name": "python385jvsc74a57bd073e03da126b73bfff3642ec5261d56fa25c444ea595de51041687efaa60dda41",
   "display_name": "Python 3.8.5 64-bit (conda)"
  }
 },
 "nbformat": 4,
 "nbformat_minor": 2,
 "cells": [
  {
   "cell_type": "code",
   "execution_count": 106,
   "metadata": {},
   "outputs": [],
   "source": [
    "from math import pi\n",
    "import numpy as np\n",
    "import typing\n",
    "from numpy.core.numeric import NaN\n",
    "from scipy.optimize import fsolve\n",
    "import matplotlib.pyplot as plt"
   ]
  },
  {
   "cell_type": "code",
   "execution_count": 107,
   "metadata": {},
   "outputs": [],
   "source": [
    "box_L = 1\n",
    "nearly_pi = 3.1416"
   ]
  },
  {
   "cell_type": "code",
   "execution_count": 108,
   "metadata": {},
   "outputs": [],
   "source": [
    "def even_positive(x, gamma):\n",
    "    return gamma/x - np.tan(x)\n",
    "\n",
    "def odd_positive(x, gamma):\n",
    "    return gamma/x + 1/np.tan(x)"
   ]
  },
  {
   "cell_type": "code",
   "execution_count": 113,
   "metadata": {},
   "outputs": [],
   "source": [
    "# For the x-koordinates of the plot\n",
    "xaxis_array = -np.linspace(0.000001, nearly_pi/2, 20)\n",
    "# To recieve the gamma factors times 2 over L for the calculation of the energy eigenvalues\n",
    "gamma_array = np.tan(xaxis_array)*2./box_L \n",
    "\n",
    "highest_energy_level = 5"
   ]
  },
  {
   "cell_type": "code",
   "execution_count": 119,
   "metadata": {
    "tags": []
   },
   "outputs": [],
   "source": [
    "def find_roots(func, num_req_roots=6, gamma_value=1, startvalue=0.5, max_tries_per_root=50, root_epsilon=0.0001):\n",
    "    results = []\n",
    "    guess = startvalue\n",
    "    num_tries = 0\n",
    "    while len(results) < num_req_roots:\n",
    "        while num_tries < max_tries_per_root:\n",
    "            newroot = float(fsolve(func, guess, args=gamma_value))\n",
    "            isnewroot = True\n",
    "            for root in results:\n",
    "                if abs(root-newroot) < root_epsilon:\n",
    "                    isnewroot = False\n",
    "            if isnewroot:\n",
    "                results.append(newroot)\n",
    "                guess = newroot+1\n",
    "                break\n",
    "            guess += 1\n",
    "            num_tries += 1\n",
    "    return results"
   ]
  },
  {
   "cell_type": "code",
   "execution_count": 123,
   "metadata": {},
   "outputs": [
    {
     "output_type": "stream",
     "name": "stderr",
     "text": [
      "D:\\ProgramData\\Anaconda3\\lib\\site-packages\\scipy\\optimize\\minpack.py:175: RuntimeWarning: The iteration is not making good progress, as measured by the \n  improvement from the last ten iterations.\n  warnings.warn(msg, RuntimeWarning)\nD:\\ProgramData\\Anaconda3\\lib\\site-packages\\scipy\\optimize\\minpack.py:175: RuntimeWarning: The iteration is not making good progress, as measured by the \n  improvement from the last five Jacobian evaluations.\n  warnings.warn(msg, RuntimeWarning)\n"
     ]
    }
   ],
   "source": [
    "final_array = []\n",
    "for gamma in gamma_array:\n",
    "    even_results = find_roots(even_positive, num_req_roots=int((highest_energy_level+1)/2), gamma_value=gamma)\n",
    "    odd_results = find_roots(odd_positive, num_req_roots=int((highest_energy_level+1)/2), gamma_value=gamma)\n",
    "    temp_tupellst = list(zip(even_results, odd_results))\n",
    "    temp_final_array = []\n",
    "    for tupel in temp_tupellst:\n",
    "        temp_final_array.append(tupel[0])\n",
    "        temp_final_array.append(tupel[1])\n",
    "    final_array.append(temp_final_array)"
   ]
  },
  {
   "cell_type": "code",
   "execution_count": null,
   "metadata": {},
   "outputs": [],
   "source": []
  }
 ]
}